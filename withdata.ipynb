{
 "cells": [
  {
   "cell_type": "code",
   "execution_count": 2,
   "id": "c7f3c7ae-7448-4b15-a51c-57afeda94dea",
   "metadata": {},
   "outputs": [
    {
     "name": "stderr",
     "output_type": "stream",
     "text": [
      "── \u001b[1mAttaching packages\u001b[22m ─────────────────────────────────────── tidyverse 1.3.1 ──\n",
      "\n",
      "\u001b[32m✔\u001b[39m \u001b[34mggplot2\u001b[39m 3.3.6     \u001b[32m✔\u001b[39m \u001b[34mpurrr  \u001b[39m 0.3.4\n",
      "\u001b[32m✔\u001b[39m \u001b[34mtibble \u001b[39m 3.1.7     \u001b[32m✔\u001b[39m \u001b[34mdplyr  \u001b[39m 1.0.9\n",
      "\u001b[32m✔\u001b[39m \u001b[34mtidyr  \u001b[39m 1.2.0     \u001b[32m✔\u001b[39m \u001b[34mstringr\u001b[39m 1.4.0\n",
      "\u001b[32m✔\u001b[39m \u001b[34mreadr  \u001b[39m 2.1.2     \u001b[32m✔\u001b[39m \u001b[34mforcats\u001b[39m 0.5.1\n",
      "\n",
      "── \u001b[1mConflicts\u001b[22m ────────────────────────────────────────── tidyverse_conflicts() ──\n",
      "\u001b[31m✖\u001b[39m \u001b[34mdplyr\u001b[39m::\u001b[32mfilter()\u001b[39m masks \u001b[34mstats\u001b[39m::filter()\n",
      "\u001b[31m✖\u001b[39m \u001b[34mdplyr\u001b[39m::\u001b[32mlag()\u001b[39m    masks \u001b[34mstats\u001b[39m::lag()\n",
      "\n",
      "── \u001b[1mAttaching packages\u001b[22m ────────────────────────────────────── tidymodels 1.0.0 ──\n",
      "\n",
      "\u001b[32m✔\u001b[39m \u001b[34mbroom       \u001b[39m 1.0.0     \u001b[32m✔\u001b[39m \u001b[34mrsample     \u001b[39m 1.0.0\n",
      "\u001b[32m✔\u001b[39m \u001b[34mdials       \u001b[39m 1.0.0     \u001b[32m✔\u001b[39m \u001b[34mtune        \u001b[39m 1.0.0\n",
      "\u001b[32m✔\u001b[39m \u001b[34minfer       \u001b[39m 1.0.2     \u001b[32m✔\u001b[39m \u001b[34mworkflows   \u001b[39m 1.0.0\n",
      "\u001b[32m✔\u001b[39m \u001b[34mmodeldata   \u001b[39m 1.0.0     \u001b[32m✔\u001b[39m \u001b[34mworkflowsets\u001b[39m 1.0.0\n",
      "\u001b[32m✔\u001b[39m \u001b[34mparsnip     \u001b[39m 1.0.0     \u001b[32m✔\u001b[39m \u001b[34myardstick   \u001b[39m 1.0.0\n",
      "\u001b[32m✔\u001b[39m \u001b[34mrecipes     \u001b[39m 1.0.1     \n",
      "\n",
      "── \u001b[1mConflicts\u001b[22m ───────────────────────────────────────── tidymodels_conflicts() ──\n",
      "\u001b[31m✖\u001b[39m \u001b[34mscales\u001b[39m::\u001b[32mdiscard()\u001b[39m masks \u001b[34mpurrr\u001b[39m::discard()\n",
      "\u001b[31m✖\u001b[39m \u001b[34mdplyr\u001b[39m::\u001b[32mfilter()\u001b[39m   masks \u001b[34mstats\u001b[39m::filter()\n",
      "\u001b[31m✖\u001b[39m \u001b[34mrecipes\u001b[39m::\u001b[32mfixed()\u001b[39m  masks \u001b[34mstringr\u001b[39m::fixed()\n",
      "\u001b[31m✖\u001b[39m \u001b[34mdplyr\u001b[39m::\u001b[32mlag()\u001b[39m      masks \u001b[34mstats\u001b[39m::lag()\n",
      "\u001b[31m✖\u001b[39m \u001b[34myardstick\u001b[39m::\u001b[32mspec()\u001b[39m masks \u001b[34mreadr\u001b[39m::spec()\n",
      "\u001b[31m✖\u001b[39m \u001b[34mrecipes\u001b[39m::\u001b[32mstep()\u001b[39m   masks \u001b[34mstats\u001b[39m::step()\n",
      "\u001b[34m•\u001b[39m Use \u001b[32mtidymodels_prefer()\u001b[39m to resolve common conflicts.\n",
      "\n"
     ]
    }
   ],
   "source": [
    "library(tidyverse)\n",
    "library(repr)\n",
    "library(tidymodels)\n",
    "options(repr.matrix.max.rows = 6)\n"
   ]
  },
  {
   "cell_type": "code",
   "execution_count": 3,
   "id": "a0955ef1-c74b-42b0-bf42-412bbb31eb3c",
   "metadata": {},
   "outputs": [
    {
     "name": "stderr",
     "output_type": "stream",
     "text": [
      "\u001b[1mRows: \u001b[22m\u001b[34m54294\u001b[39m \u001b[1mColumns: \u001b[22m\u001b[34m39\u001b[39m\n",
      "\u001b[36m──\u001b[39m \u001b[1mColumn specification\u001b[22m \u001b[36m────────────────────────────────────────────────────────\u001b[39m\n",
      "\u001b[1mDelimiter:\u001b[22m \",\"\n",
      "\u001b[31mchr\u001b[39m  (13): permalink, name, homepage_url, category_list, market, funding_tot...\n",
      "\u001b[32mdbl\u001b[39m  (23): funding_rounds, founded_year, seed, venture, equity_crowdfunding,...\n",
      "\u001b[34mdate\u001b[39m  (3): founded_at, first_funding_at, last_funding_at\n",
      "\n",
      "\u001b[36mℹ\u001b[39m Use `spec()` to retrieve the full column specification for this data.\n",
      "\u001b[36mℹ\u001b[39m Specify the column types or set `show_col_types = FALSE` to quiet this message.\n"
     ]
    },
    {
     "data": {
      "text/html": [
       "<table class=\"dataframe\">\n",
       "<caption>A spec_tbl_df: 54294 × 39</caption>\n",
       "<thead>\n",
       "\t<tr><th scope=col>permalink</th><th scope=col>name</th><th scope=col>homepage_url</th><th scope=col>category_list</th><th scope=col>market</th><th scope=col>funding_total_usd</th><th scope=col>status</th><th scope=col>country_code</th><th scope=col>state_code</th><th scope=col>region</th><th scope=col>⋯</th><th scope=col>secondary_market</th><th scope=col>product_crowdfunding</th><th scope=col>round_A</th><th scope=col>round_B</th><th scope=col>round_C</th><th scope=col>round_D</th><th scope=col>round_E</th><th scope=col>round_F</th><th scope=col>round_G</th><th scope=col>round_H</th></tr>\n",
       "\t<tr><th scope=col>&lt;chr&gt;</th><th scope=col>&lt;chr&gt;</th><th scope=col>&lt;chr&gt;</th><th scope=col>&lt;chr&gt;</th><th scope=col>&lt;chr&gt;</th><th scope=col>&lt;chr&gt;</th><th scope=col>&lt;chr&gt;</th><th scope=col>&lt;chr&gt;</th><th scope=col>&lt;chr&gt;</th><th scope=col>&lt;chr&gt;</th><th scope=col>⋯</th><th scope=col>&lt;dbl&gt;</th><th scope=col>&lt;dbl&gt;</th><th scope=col>&lt;dbl&gt;</th><th scope=col>&lt;dbl&gt;</th><th scope=col>&lt;dbl&gt;</th><th scope=col>&lt;dbl&gt;</th><th scope=col>&lt;dbl&gt;</th><th scope=col>&lt;dbl&gt;</th><th scope=col>&lt;dbl&gt;</th><th scope=col>&lt;dbl&gt;</th></tr>\n",
       "</thead>\n",
       "<tbody>\n",
       "\t<tr><td>/organization/waywire          </td><td>#waywire          </td><td>http://www.waywire.com      </td><td>|Entertainment|Politics|Social Media|News|</td><td>News      </td><td>17,50,000</td><td>acquired </td><td>USA</td><td>NY</td><td>New York City</td><td>⋯</td><td>0</td><td>0</td><td>0</td><td>0</td><td>0</td><td>0</td><td>0</td><td>0</td><td>0</td><td>0</td></tr>\n",
       "\t<tr><td>/organization/tv-communications</td><td>&amp;TV Communications</td><td><span style=white-space:pre-wrap>http://enjoyandtv.com       </span></td><td><span style=white-space:pre-wrap>|Games|                                   </span></td><td><span style=white-space:pre-wrap>Games     </span></td><td>40,00,000</td><td>operating</td><td>USA</td><td>CA</td><td><span style=white-space:pre-wrap>Los Angeles  </span></td><td>⋯</td><td>0</td><td>0</td><td>0</td><td>0</td><td>0</td><td>0</td><td>0</td><td>0</td><td>0</td><td>0</td></tr>\n",
       "\t<tr><td>/organization/rock-your-paper  </td><td>'Rock' Your Paper </td><td>http://www.rockyourpaper.org</td><td>|Publishing|Education|                    </td><td>Publishing</td><td>40,000   </td><td>operating</td><td>EST</td><td>NA</td><td>Tallinn      </td><td>⋯</td><td>0</td><td>0</td><td>0</td><td>0</td><td>0</td><td>0</td><td>0</td><td>0</td><td>0</td><td>0</td></tr>\n",
       "\t<tr><td>⋮</td><td>⋮</td><td>⋮</td><td>⋮</td><td>⋮</td><td>⋮</td><td>⋮</td><td>⋮</td><td>⋮</td><td>⋮</td><td>⋱</td><td>⋮</td><td>⋮</td><td>⋮</td><td>⋮</td><td>⋮</td><td>⋮</td><td>⋮</td><td>⋮</td><td>⋮</td><td>⋮</td></tr>\n",
       "\t<tr><td>NA</td><td>NA</td><td>NA</td><td>NA</td><td>NA</td><td>NA</td><td>NA</td><td>NA</td><td>NA</td><td>NA</td><td>⋯</td><td>NA</td><td>NA</td><td>NA</td><td>NA</td><td>NA</td><td>NA</td><td>NA</td><td>NA</td><td>NA</td><td>NA</td></tr>\n",
       "\t<tr><td>NA</td><td>NA</td><td>NA</td><td>NA</td><td>NA</td><td>NA</td><td>NA</td><td>NA</td><td>NA</td><td>NA</td><td>⋯</td><td>NA</td><td>NA</td><td>NA</td><td>NA</td><td>NA</td><td>NA</td><td>NA</td><td>NA</td><td>NA</td><td>NA</td></tr>\n",
       "\t<tr><td>NA</td><td>NA</td><td>NA</td><td>NA</td><td>NA</td><td>NA</td><td>NA</td><td>NA</td><td>NA</td><td>NA</td><td>⋯</td><td>NA</td><td>NA</td><td>NA</td><td>NA</td><td>NA</td><td>NA</td><td>NA</td><td>NA</td><td>NA</td><td>NA</td></tr>\n",
       "</tbody>\n",
       "</table>\n"
      ],
      "text/latex": [
       "A spec\\_tbl\\_df: 54294 × 39\n",
       "\\begin{tabular}{lllllllllllllllllllll}\n",
       " permalink & name & homepage\\_url & category\\_list & market & funding\\_total\\_usd & status & country\\_code & state\\_code & region & ⋯ & secondary\\_market & product\\_crowdfunding & round\\_A & round\\_B & round\\_C & round\\_D & round\\_E & round\\_F & round\\_G & round\\_H\\\\\n",
       " <chr> & <chr> & <chr> & <chr> & <chr> & <chr> & <chr> & <chr> & <chr> & <chr> & ⋯ & <dbl> & <dbl> & <dbl> & <dbl> & <dbl> & <dbl> & <dbl> & <dbl> & <dbl> & <dbl>\\\\\n",
       "\\hline\n",
       "\t /organization/waywire           & \\#waywire           & http://www.waywire.com       & \\textbar{}Entertainment\\textbar{}Politics\\textbar{}Social Media\\textbar{}News\\textbar{} & News       & 17,50,000 & acquired  & USA & NY & New York City & ⋯ & 0 & 0 & 0 & 0 & 0 & 0 & 0 & 0 & 0 & 0\\\\\n",
       "\t /organization/tv-communications & \\&TV Communications & http://enjoyandtv.com        & \\textbar{}Games\\textbar{}                                    & Games      & 40,00,000 & operating & USA & CA & Los Angeles   & ⋯ & 0 & 0 & 0 & 0 & 0 & 0 & 0 & 0 & 0 & 0\\\\\n",
       "\t /organization/rock-your-paper   & 'Rock' Your Paper  & http://www.rockyourpaper.org & \\textbar{}Publishing\\textbar{}Education\\textbar{}                     & Publishing & 40,000    & operating & EST & NA & Tallinn       & ⋯ & 0 & 0 & 0 & 0 & 0 & 0 & 0 & 0 & 0 & 0\\\\\n",
       "\t ⋮ & ⋮ & ⋮ & ⋮ & ⋮ & ⋮ & ⋮ & ⋮ & ⋮ & ⋮ & ⋱ & ⋮ & ⋮ & ⋮ & ⋮ & ⋮ & ⋮ & ⋮ & ⋮ & ⋮ & ⋮\\\\\n",
       "\t NA & NA & NA & NA & NA & NA & NA & NA & NA & NA & ⋯ & NA & NA & NA & NA & NA & NA & NA & NA & NA & NA\\\\\n",
       "\t NA & NA & NA & NA & NA & NA & NA & NA & NA & NA & ⋯ & NA & NA & NA & NA & NA & NA & NA & NA & NA & NA\\\\\n",
       "\t NA & NA & NA & NA & NA & NA & NA & NA & NA & NA & ⋯ & NA & NA & NA & NA & NA & NA & NA & NA & NA & NA\\\\\n",
       "\\end{tabular}\n"
      ],
      "text/markdown": [
       "\n",
       "A spec_tbl_df: 54294 × 39\n",
       "\n",
       "| permalink &lt;chr&gt; | name &lt;chr&gt; | homepage_url &lt;chr&gt; | category_list &lt;chr&gt; | market &lt;chr&gt; | funding_total_usd &lt;chr&gt; | status &lt;chr&gt; | country_code &lt;chr&gt; | state_code &lt;chr&gt; | region &lt;chr&gt; | ⋯ ⋯ | secondary_market &lt;dbl&gt; | product_crowdfunding &lt;dbl&gt; | round_A &lt;dbl&gt; | round_B &lt;dbl&gt; | round_C &lt;dbl&gt; | round_D &lt;dbl&gt; | round_E &lt;dbl&gt; | round_F &lt;dbl&gt; | round_G &lt;dbl&gt; | round_H &lt;dbl&gt; |\n",
       "|---|---|---|---|---|---|---|---|---|---|---|---|---|---|---|---|---|---|---|---|---|\n",
       "| /organization/waywire           | #waywire           | http://www.waywire.com       | |Entertainment|Politics|Social Media|News| | News       | 17,50,000 | acquired  | USA | NY | New York City | ⋯ | 0 | 0 | 0 | 0 | 0 | 0 | 0 | 0 | 0 | 0 |\n",
       "| /organization/tv-communications | &amp;TV Communications | http://enjoyandtv.com        | |Games|                                    | Games      | 40,00,000 | operating | USA | CA | Los Angeles   | ⋯ | 0 | 0 | 0 | 0 | 0 | 0 | 0 | 0 | 0 | 0 |\n",
       "| /organization/rock-your-paper   | 'Rock' Your Paper  | http://www.rockyourpaper.org | |Publishing|Education|                     | Publishing | 40,000    | operating | EST | NA | Tallinn       | ⋯ | 0 | 0 | 0 | 0 | 0 | 0 | 0 | 0 | 0 | 0 |\n",
       "| ⋮ | ⋮ | ⋮ | ⋮ | ⋮ | ⋮ | ⋮ | ⋮ | ⋮ | ⋮ | ⋱ | ⋮ | ⋮ | ⋮ | ⋮ | ⋮ | ⋮ | ⋮ | ⋮ | ⋮ | ⋮ |\n",
       "| NA | NA | NA | NA | NA | NA | NA | NA | NA | NA | ⋯ | NA | NA | NA | NA | NA | NA | NA | NA | NA | NA |\n",
       "| NA | NA | NA | NA | NA | NA | NA | NA | NA | NA | ⋯ | NA | NA | NA | NA | NA | NA | NA | NA | NA | NA |\n",
       "| NA | NA | NA | NA | NA | NA | NA | NA | NA | NA | ⋯ | NA | NA | NA | NA | NA | NA | NA | NA | NA | NA |\n",
       "\n"
      ],
      "text/plain": [
       "      permalink                       name              \n",
       "1     /organization/waywire           #waywire          \n",
       "2     /organization/tv-communications &TV Communications\n",
       "3     /organization/rock-your-paper   'Rock' Your Paper \n",
       "⋮     ⋮                               ⋮                 \n",
       "54292 NA                              NA                \n",
       "54293 NA                              NA                \n",
       "54294 NA                              NA                \n",
       "      homepage_url                 category_list                             \n",
       "1     http://www.waywire.com       |Entertainment|Politics|Social Media|News|\n",
       "2     http://enjoyandtv.com        |Games|                                   \n",
       "3     http://www.rockyourpaper.org |Publishing|Education|                    \n",
       "⋮     ⋮                            ⋮                                         \n",
       "54292 NA                           NA                                        \n",
       "54293 NA                           NA                                        \n",
       "54294 NA                           NA                                        \n",
       "      market     funding_total_usd status    country_code state_code\n",
       "1     News       17,50,000         acquired  USA          NY        \n",
       "2     Games      40,00,000         operating USA          CA        \n",
       "3     Publishing 40,000            operating EST          NA        \n",
       "⋮     ⋮          ⋮                 ⋮         ⋮            ⋮         \n",
       "54292 NA         NA                NA        NA           NA        \n",
       "54293 NA         NA                NA        NA           NA        \n",
       "54294 NA         NA                NA        NA           NA        \n",
       "      region        ⋯ secondary_market product_crowdfunding round_A round_B\n",
       "1     New York City ⋯ 0                0                    0       0      \n",
       "2     Los Angeles   ⋯ 0                0                    0       0      \n",
       "3     Tallinn       ⋯ 0                0                    0       0      \n",
       "⋮     ⋮             ⋱ ⋮                ⋮                    ⋮       ⋮      \n",
       "54292 NA            ⋯ NA               NA                   NA      NA     \n",
       "54293 NA            ⋯ NA               NA                   NA      NA     \n",
       "54294 NA            ⋯ NA               NA                   NA      NA     \n",
       "      round_C round_D round_E round_F round_G round_H\n",
       "1     0       0       0       0       0       0      \n",
       "2     0       0       0       0       0       0      \n",
       "3     0       0       0       0       0       0      \n",
       "⋮     ⋮       ⋮       ⋮       ⋮       ⋮       ⋮      \n",
       "54292 NA      NA      NA      NA      NA      NA     \n",
       "54293 NA      NA      NA      NA      NA      NA     \n",
       "54294 NA      NA      NA      NA      NA      NA     "
      ]
     },
     "metadata": {},
     "output_type": "display_data"
    }
   ],
   "source": [
    "# Step 1 : Demonstrate that the dataset can be read from the web into R \n",
    "url <- \"https://raw.githubusercontent.com/tracyw98/Project-Proposal-/main/investments_VC.csv\"\n",
    "startup_data <- read_csv(url)\n",
    "startup_data "
   ]
  },
  {
   "cell_type": "code",
   "execution_count": 4,
   "id": "1364711a-1b40-4650-b364-209fecb7dea2",
   "metadata": {},
   "outputs": [
    {
     "data": {
      "text/html": [
       "<table class=\"dataframe\">\n",
       "<caption>A tibble: 754 × 2</caption>\n",
       "<thead>\n",
       "\t<tr><th scope=col>market</th><th scope=col>count</th></tr>\n",
       "\t<tr><th scope=col>&lt;chr&gt;</th><th scope=col>&lt;int&gt;</th></tr>\n",
       "</thead>\n",
       "<tbody>\n",
       "\t<tr><td>3D           </td><td>25</td></tr>\n",
       "\t<tr><td>3D Printing  </td><td> 9</td></tr>\n",
       "\t<tr><td>3D Technology</td><td> 8</td></tr>\n",
       "\t<tr><td>⋮</td><td>⋮</td></tr>\n",
       "\t<tr><td>Writers     </td><td>   1</td></tr>\n",
       "\t<tr><td>Young Adults</td><td>   2</td></tr>\n",
       "\t<tr><td>NA          </td><td>8824</td></tr>\n",
       "</tbody>\n",
       "</table>\n"
      ],
      "text/latex": [
       "A tibble: 754 × 2\n",
       "\\begin{tabular}{ll}\n",
       " market & count\\\\\n",
       " <chr> & <int>\\\\\n",
       "\\hline\n",
       "\t 3D            & 25\\\\\n",
       "\t 3D Printing   &  9\\\\\n",
       "\t 3D Technology &  8\\\\\n",
       "\t ⋮ & ⋮\\\\\n",
       "\t Writers      &    1\\\\\n",
       "\t Young Adults &    2\\\\\n",
       "\t NA           & 8824\\\\\n",
       "\\end{tabular}\n"
      ],
      "text/markdown": [
       "\n",
       "A tibble: 754 × 2\n",
       "\n",
       "| market &lt;chr&gt; | count &lt;int&gt; |\n",
       "|---|---|\n",
       "| 3D            | 25 |\n",
       "| 3D Printing   |  9 |\n",
       "| 3D Technology |  8 |\n",
       "| ⋮ | ⋮ |\n",
       "| Writers      |    1 |\n",
       "| Young Adults |    2 |\n",
       "| NA           | 8824 |\n",
       "\n"
      ],
      "text/plain": [
       "    market        count\n",
       "1   3D            25   \n",
       "2   3D Printing    9   \n",
       "3   3D Technology  8   \n",
       "⋮   ⋮             ⋮    \n",
       "752 Writers          1 \n",
       "753 Young Adults     2 \n",
       "754 NA            8824 "
      ]
     },
     "metadata": {},
     "output_type": "display_data"
    },
    {
     "data": {
      "text/html": [
       "<table class=\"dataframe\">\n",
       "<caption>A tibble: 4 × 2</caption>\n",
       "<thead>\n",
       "\t<tr><th scope=col>status</th><th scope=col>count</th></tr>\n",
       "\t<tr><th scope=col>&lt;chr&gt;</th><th scope=col>&lt;int&gt;</th></tr>\n",
       "</thead>\n",
       "<tbody>\n",
       "\t<tr><td>acquired </td><td> 3692</td></tr>\n",
       "\t<tr><td>closed   </td><td> 2603</td></tr>\n",
       "\t<tr><td>operating</td><td>41829</td></tr>\n",
       "\t<tr><td>NA       </td><td> 6170</td></tr>\n",
       "</tbody>\n",
       "</table>\n"
      ],
      "text/latex": [
       "A tibble: 4 × 2\n",
       "\\begin{tabular}{ll}\n",
       " status & count\\\\\n",
       " <chr> & <int>\\\\\n",
       "\\hline\n",
       "\t acquired  &  3692\\\\\n",
       "\t closed    &  2603\\\\\n",
       "\t operating & 41829\\\\\n",
       "\t NA        &  6170\\\\\n",
       "\\end{tabular}\n"
      ],
      "text/markdown": [
       "\n",
       "A tibble: 4 × 2\n",
       "\n",
       "| status &lt;chr&gt; | count &lt;int&gt; |\n",
       "|---|---|\n",
       "| acquired  |  3692 |\n",
       "| closed    |  2603 |\n",
       "| operating | 41829 |\n",
       "| NA        |  6170 |\n",
       "\n"
      ],
      "text/plain": [
       "  status    count\n",
       "1 acquired   3692\n",
       "2 closed     2603\n",
       "3 operating 41829\n",
       "4 NA         6170"
      ]
     },
     "metadata": {},
     "output_type": "display_data"
    },
    {
     "data": {
      "text/html": [
       "<table class=\"dataframe\">\n",
       "<caption>A tibble: 14618 × 2</caption>\n",
       "<thead>\n",
       "\t<tr><th scope=col>funding_total_usd</th><th scope=col>count</th></tr>\n",
       "\t<tr><th scope=col>&lt;chr&gt;</th><th scope=col>&lt;int&gt;</th></tr>\n",
       "</thead>\n",
       "<tbody>\n",
       "\t<tr><td>-             </td><td>8531</td></tr>\n",
       "\t<tr><td>1             </td><td>   1</td></tr>\n",
       "\t<tr><td>1,00,00,00,000</td><td>   2</td></tr>\n",
       "\t<tr><td>⋮</td><td>⋮</td></tr>\n",
       "\t<tr><td>99,99,997</td><td>   1</td></tr>\n",
       "\t<tr><td>99,99,999</td><td>   1</td></tr>\n",
       "\t<tr><td>NA       </td><td>4856</td></tr>\n",
       "</tbody>\n",
       "</table>\n"
      ],
      "text/latex": [
       "A tibble: 14618 × 2\n",
       "\\begin{tabular}{ll}\n",
       " funding\\_total\\_usd & count\\\\\n",
       " <chr> & <int>\\\\\n",
       "\\hline\n",
       "\t -              & 8531\\\\\n",
       "\t 1              &    1\\\\\n",
       "\t 1,00,00,00,000 &    2\\\\\n",
       "\t ⋮ & ⋮\\\\\n",
       "\t 99,99,997 &    1\\\\\n",
       "\t 99,99,999 &    1\\\\\n",
       "\t NA        & 4856\\\\\n",
       "\\end{tabular}\n"
      ],
      "text/markdown": [
       "\n",
       "A tibble: 14618 × 2\n",
       "\n",
       "| funding_total_usd &lt;chr&gt; | count &lt;int&gt; |\n",
       "|---|---|\n",
       "| -              | 8531 |\n",
       "| 1              |    1 |\n",
       "| 1,00,00,00,000 |    2 |\n",
       "| ⋮ | ⋮ |\n",
       "| 99,99,997 |    1 |\n",
       "| 99,99,999 |    1 |\n",
       "| NA        | 4856 |\n",
       "\n"
      ],
      "text/plain": [
       "      funding_total_usd count\n",
       "1     -                 8531 \n",
       "2     1                    1 \n",
       "3     1,00,00,00,000       2 \n",
       "⋮     ⋮                 ⋮    \n",
       "14616 99,99,997            1 \n",
       "14617 99,99,999            1 \n",
       "14618 NA                4856 "
      ]
     },
     "metadata": {},
     "output_type": "display_data"
    }
   ],
   "source": [
    "#step2: determine if there are NAs in each column. \n",
    "missing_market <- startup_data |>\n",
    "  select(market) |>\n",
    "  group_by(market) |>\n",
    "  summarise(count = n()) |>\n",
    "  arrange(market)\n",
    "\n",
    "\n",
    "missing_status <- startup_data |>\n",
    "  select(status) |>\n",
    "  group_by(status) |>\n",
    "  summarise(count = n()) |>\n",
    "  arrange(status)\n",
    "\n",
    "\n",
    "missing_funding <- startup_data |>\n",
    "  select(funding_total_usd) |>\n",
    "  group_by(funding_total_usd) |>\n",
    "  summarise(count = n()) |>\n",
    "  arrange(funding_total_usd)\n",
    "\n",
    "missing_market \n",
    "missing_status\n",
    "missing_funding"
   ]
  },
  {
   "cell_type": "code",
   "execution_count": 5,
   "id": "fa7b9725-c0d7-452f-8d86-c2e6224f86b7",
   "metadata": {},
   "outputs": [
    {
     "name": "stdout",
     "output_type": "stream",
     "text": [
      "Rows: 14,618\n",
      "Columns: 2\n",
      "$ funding_total_usd \u001b[3m\u001b[90m<chr>\u001b[39m\u001b[23m \"-\", \"1\", \"1,00,00,00,000\", \"1,00,00,000\", \"1,00,00,…\n",
      "$ count             \u001b[3m\u001b[90m<int>\u001b[39m\u001b[23m 8531, 1, 2, 489, 2, 1, 1, 1, 1, 749, 2, 1, 1, 1, 1, …\n"
     ]
    }
   ],
   "source": [
    "glimpse(missing_funding)"
   ]
  },
  {
   "cell_type": "code",
   "execution_count": 6,
   "id": "c20719ba-7420-43ac-b0b1-40a99a27d7e5",
   "metadata": {},
   "outputs": [],
   "source": [
    "selected_column <- startup_data |>\n",
    "    na.omit()|>\n",
    "    select (market,status, funding_total_usd)"
   ]
  },
  {
   "cell_type": "code",
   "execution_count": 12,
   "id": "84ed30fc-e4b4-4746-a461-cdc7e4f2e28e",
   "metadata": {},
   "outputs": [
    {
     "name": "stderr",
     "output_type": "stream",
     "text": [
      "Warning message in mask$eval_all_mutate(quo):\n",
      "“NAs introduced by coercion”\n"
     ]
    },
    {
     "data": {
      "text/html": [
       "<table class=\"dataframe\">\n",
       "<caption>A tibble: 21840 × 5</caption>\n",
       "<thead>\n",
       "\t<tr><th scope=col>name</th><th scope=col>country_code</th><th scope=col>market</th><th scope=col>status</th><th scope=col>funding_total_usd</th></tr>\n",
       "\t<tr><th scope=col>&lt;chr&gt;</th><th scope=col>&lt;chr&gt;</th><th scope=col>&lt;chr&gt;</th><th scope=col>&lt;fct&gt;</th><th scope=col>&lt;dbl&gt;</th></tr>\n",
       "</thead>\n",
       "<tbody>\n",
       "\t<tr><td>#waywire        </td><td>USA</td><td>News               </td><td>acquired </td><td>1750000</td></tr>\n",
       "\t<tr><td>004 Technologies</td><td>USA</td><td>Software           </td><td>operating</td><td>     NA</td></tr>\n",
       "\t<tr><td>1-800-DENTIST   </td><td>USA</td><td>Health and Wellness</td><td>operating</td><td>     NA</td></tr>\n",
       "\t<tr><td>⋮</td><td>⋮</td><td>⋮</td><td>⋮</td><td>⋮</td></tr>\n",
       "\t<tr><td>Zyngenia</td><td>USA</td><td>Biotechnology      </td><td>operating</td><td>25000000</td></tr>\n",
       "\t<tr><td>ZYOMYX  </td><td>USA</td><td>Biotechnology      </td><td>operating</td><td>34275015</td></tr>\n",
       "\t<tr><td>[x+1]   </td><td>USA</td><td>Enterprise Software</td><td>operating</td><td>45000000</td></tr>\n",
       "</tbody>\n",
       "</table>\n"
      ],
      "text/latex": [
       "A tibble: 21840 × 5\n",
       "\\begin{tabular}{lllll}\n",
       " name & country\\_code & market & status & funding\\_total\\_usd\\\\\n",
       " <chr> & <chr> & <chr> & <fct> & <dbl>\\\\\n",
       "\\hline\n",
       "\t \\#waywire         & USA & News                & acquired  & 1750000\\\\\n",
       "\t 004 Technologies & USA & Software            & operating &      NA\\\\\n",
       "\t 1-800-DENTIST    & USA & Health and Wellness & operating &      NA\\\\\n",
       "\t ⋮ & ⋮ & ⋮ & ⋮ & ⋮\\\\\n",
       "\t Zyngenia & USA & Biotechnology       & operating & 25000000\\\\\n",
       "\t ZYOMYX   & USA & Biotechnology       & operating & 34275015\\\\\n",
       "\t {[}x+1{]}    & USA & Enterprise Software & operating & 45000000\\\\\n",
       "\\end{tabular}\n"
      ],
      "text/markdown": [
       "\n",
       "A tibble: 21840 × 5\n",
       "\n",
       "| name &lt;chr&gt; | country_code &lt;chr&gt; | market &lt;chr&gt; | status &lt;fct&gt; | funding_total_usd &lt;dbl&gt; |\n",
       "|---|---|---|---|---|\n",
       "| #waywire         | USA | News                | acquired  | 1750000 |\n",
       "| 004 Technologies | USA | Software            | operating |      NA |\n",
       "| 1-800-DENTIST    | USA | Health and Wellness | operating |      NA |\n",
       "| ⋮ | ⋮ | ⋮ | ⋮ | ⋮ |\n",
       "| Zyngenia | USA | Biotechnology       | operating | 25000000 |\n",
       "| ZYOMYX   | USA | Biotechnology       | operating | 34275015 |\n",
       "| [x+1]    | USA | Enterprise Software | operating | 45000000 |\n",
       "\n"
      ],
      "text/plain": [
       "      name             country_code market              status   \n",
       "1     #waywire         USA          News                acquired \n",
       "2     004 Technologies USA          Software            operating\n",
       "3     1-800-DENTIST    USA          Health and Wellness operating\n",
       "⋮     ⋮                ⋮            ⋮                   ⋮        \n",
       "21838 Zyngenia         USA          Biotechnology       operating\n",
       "21839 ZYOMYX           USA          Biotechnology       operating\n",
       "21840 [x+1]            USA          Enterprise Software operating\n",
       "      funding_total_usd\n",
       "1     1750000          \n",
       "2          NA          \n",
       "3          NA          \n",
       "⋮     ⋮                \n",
       "21838 25000000         \n",
       "21839 34275015         \n",
       "21840 45000000         "
      ]
     },
     "metadata": {},
     "output_type": "display_data"
    },
    {
     "data": {
      "text/html": [
       "<table class=\"dataframe\">\n",
       "<caption>A tibble: 19112 × 5</caption>\n",
       "<thead>\n",
       "\t<tr><th scope=col>name</th><th scope=col>country_code</th><th scope=col>market</th><th scope=col>status</th><th scope=col>funding_total_usd</th></tr>\n",
       "\t<tr><th scope=col>&lt;chr&gt;</th><th scope=col>&lt;chr&gt;</th><th scope=col>&lt;chr&gt;</th><th scope=col>&lt;fct&gt;</th><th scope=col>&lt;dbl&gt;</th></tr>\n",
       "</thead>\n",
       "<tbody>\n",
       "\t<tr><td>#waywire     </td><td>USA</td><td>News               </td><td>acquired </td><td>1750000</td></tr>\n",
       "\t<tr><td>1-800-DOCTORS</td><td>USA</td><td>Health and Wellness</td><td>operating</td><td>1750000</td></tr>\n",
       "\t<tr><td>10-20 Media  </td><td>USA</td><td>E-Commerce         </td><td>operating</td><td>2050000</td></tr>\n",
       "\t<tr><td>⋮</td><td>⋮</td><td>⋮</td><td>⋮</td><td>⋮</td></tr>\n",
       "\t<tr><td>Zyngenia</td><td>USA</td><td>Biotechnology      </td><td>operating</td><td>25000000</td></tr>\n",
       "\t<tr><td>ZYOMYX  </td><td>USA</td><td>Biotechnology      </td><td>operating</td><td>34275015</td></tr>\n",
       "\t<tr><td>[x+1]   </td><td>USA</td><td>Enterprise Software</td><td>operating</td><td>45000000</td></tr>\n",
       "</tbody>\n",
       "</table>\n"
      ],
      "text/latex": [
       "A tibble: 19112 × 5\n",
       "\\begin{tabular}{lllll}\n",
       " name & country\\_code & market & status & funding\\_total\\_usd\\\\\n",
       " <chr> & <chr> & <chr> & <fct> & <dbl>\\\\\n",
       "\\hline\n",
       "\t \\#waywire      & USA & News                & acquired  & 1750000\\\\\n",
       "\t 1-800-DOCTORS & USA & Health and Wellness & operating & 1750000\\\\\n",
       "\t 10-20 Media   & USA & E-Commerce          & operating & 2050000\\\\\n",
       "\t ⋮ & ⋮ & ⋮ & ⋮ & ⋮\\\\\n",
       "\t Zyngenia & USA & Biotechnology       & operating & 25000000\\\\\n",
       "\t ZYOMYX   & USA & Biotechnology       & operating & 34275015\\\\\n",
       "\t {[}x+1{]}    & USA & Enterprise Software & operating & 45000000\\\\\n",
       "\\end{tabular}\n"
      ],
      "text/markdown": [
       "\n",
       "A tibble: 19112 × 5\n",
       "\n",
       "| name &lt;chr&gt; | country_code &lt;chr&gt; | market &lt;chr&gt; | status &lt;fct&gt; | funding_total_usd &lt;dbl&gt; |\n",
       "|---|---|---|---|---|\n",
       "| #waywire      | USA | News                | acquired  | 1750000 |\n",
       "| 1-800-DOCTORS | USA | Health and Wellness | operating | 1750000 |\n",
       "| 10-20 Media   | USA | E-Commerce          | operating | 2050000 |\n",
       "| ⋮ | ⋮ | ⋮ | ⋮ | ⋮ |\n",
       "| Zyngenia | USA | Biotechnology       | operating | 25000000 |\n",
       "| ZYOMYX   | USA | Biotechnology       | operating | 34275015 |\n",
       "| [x+1]    | USA | Enterprise Software | operating | 45000000 |\n",
       "\n"
      ],
      "text/plain": [
       "      name          country_code market              status   \n",
       "1     #waywire      USA          News                acquired \n",
       "2     1-800-DOCTORS USA          Health and Wellness operating\n",
       "3     10-20 Media   USA          E-Commerce          operating\n",
       "⋮     ⋮             ⋮            ⋮                   ⋮        \n",
       "19110 Zyngenia      USA          Biotechnology       operating\n",
       "19111 ZYOMYX        USA          Biotechnology       operating\n",
       "19112 [x+1]         USA          Enterprise Software operating\n",
       "      funding_total_usd\n",
       "1     1750000          \n",
       "2     1750000          \n",
       "3     2050000          \n",
       "⋮     ⋮                \n",
       "19110 25000000         \n",
       "19111 34275015         \n",
       "19112 45000000         "
      ]
     },
     "metadata": {},
     "output_type": "display_data"
    }
   ],
   "source": [
    "#step 2: Clean and wrangle your data into a tidy format, change status to a factor\n",
    "clean_startup_1 <- startup_data |>\n",
    "    na.omit()|>\n",
    "    select(name, country_code, market,status, funding_total_usd)|>\n",
    "    mutate(status = as_factor(status))|>\n",
    "     mutate(funding_total_usd = as.numeric(gsub(\",\", \"\", funding_total_usd)))\n",
    "\n",
    "clean_startup_2 <- clean_startup_1 |> \n",
    "    na.omit() |>\n",
    "    mutate(funding_total_usd = as.numeric(gsub(\"-\", \"\", funding_total_usd)))\n",
    "\n",
    "clean_startup_1\n",
    "clean_startup_2"
   ]
  },
  {
   "cell_type": "code",
   "execution_count": 13,
   "id": "0da09430-bc00-4fb5-9b78-ae118901c0ef",
   "metadata": {},
   "outputs": [
    {
     "data": {
      "text/html": [
       "<table class=\"dataframe\">\n",
       "<caption>A tibble: 13 × 2</caption>\n",
       "<thead>\n",
       "\t<tr><th scope=col>funding_total_usd</th><th scope=col>count</th></tr>\n",
       "\t<tr><th scope=col>&lt;dbl&gt;</th><th scope=col>&lt;int&gt;</th></tr>\n",
       "</thead>\n",
       "<tbody>\n",
       "\t<tr><td>30</td><td>1</td></tr>\n",
       "\t<tr><td>50</td><td>1</td></tr>\n",
       "\t<tr><td>80</td><td>1</td></tr>\n",
       "\t<tr><td>⋮</td><td>⋮</td></tr>\n",
       "\t<tr><td>800</td><td>    2</td></tr>\n",
       "\t<tr><td>900</td><td>    1</td></tr>\n",
       "\t<tr><td> NA</td><td>21824</td></tr>\n",
       "</tbody>\n",
       "</table>\n"
      ],
      "text/latex": [
       "A tibble: 13 × 2\n",
       "\\begin{tabular}{ll}\n",
       " funding\\_total\\_usd & count\\\\\n",
       " <dbl> & <int>\\\\\n",
       "\\hline\n",
       "\t 30 & 1\\\\\n",
       "\t 50 & 1\\\\\n",
       "\t 80 & 1\\\\\n",
       "\t ⋮ & ⋮\\\\\n",
       "\t 800 &     2\\\\\n",
       "\t 900 &     1\\\\\n",
       "\t  NA & 21824\\\\\n",
       "\\end{tabular}\n"
      ],
      "text/markdown": [
       "\n",
       "A tibble: 13 × 2\n",
       "\n",
       "| funding_total_usd &lt;dbl&gt; | count &lt;int&gt; |\n",
       "|---|---|\n",
       "| 30 | 1 |\n",
       "| 50 | 1 |\n",
       "| 80 | 1 |\n",
       "| ⋮ | ⋮ |\n",
       "| 800 |     2 |\n",
       "| 900 |     1 |\n",
       "|  NA | 21824 |\n",
       "\n"
      ],
      "text/plain": [
       "   funding_total_usd count\n",
       "1  30                1    \n",
       "2  50                1    \n",
       "3  80                1    \n",
       "⋮  ⋮                 ⋮    \n",
       "11 800                   2\n",
       "12 900                   1\n",
       "13  NA               21824"
      ]
     },
     "metadata": {},
     "output_type": "display_data"
    }
   ],
   "source": [
    "#step 3: Double checking to see if there are any left over NAs from selected_column_2\n",
    "check_for_nas <- clean_startup_2  |>\n",
    "  select(funding_total_usd) |>\n",
    "  group_by(funding_total_usd) |>\n",
    "  summarise(count = n()) |>\n",
    "  arrange(funding_total_usd)\n",
    "check_for_nas"
   ]
  },
  {
   "cell_type": "code",
   "execution_count": 14,
   "id": "1a2bf878-f4fd-4754-8dec-a450ce6edd77",
   "metadata": {},
   "outputs": [
    {
     "data": {
      "text/html": [
       "<table class=\"dataframe\">\n",
       "<caption>A tibble: 666 × 2</caption>\n",
       "<thead>\n",
       "\t<tr><th scope=col>market</th><th scope=col>count</th></tr>\n",
       "\t<tr><th scope=col>&lt;chr&gt;</th><th scope=col>&lt;int&gt;</th></tr>\n",
       "</thead>\n",
       "<tbody>\n",
       "\t<tr><td>3D           </td><td>8</td></tr>\n",
       "\t<tr><td>3D Printing  </td><td>2</td></tr>\n",
       "\t<tr><td>3D Technology</td><td>3</td></tr>\n",
       "\t<tr><td>⋮</td><td>⋮</td></tr>\n",
       "\t<tr><td>Women           </td><td>5</td></tr>\n",
       "\t<tr><td>World Domination</td><td>4</td></tr>\n",
       "\t<tr><td>Writers         </td><td>1</td></tr>\n",
       "</tbody>\n",
       "</table>\n"
      ],
      "text/latex": [
       "A tibble: 666 × 2\n",
       "\\begin{tabular}{ll}\n",
       " market & count\\\\\n",
       " <chr> & <int>\\\\\n",
       "\\hline\n",
       "\t 3D            & 8\\\\\n",
       "\t 3D Printing   & 2\\\\\n",
       "\t 3D Technology & 3\\\\\n",
       "\t ⋮ & ⋮\\\\\n",
       "\t Women            & 5\\\\\n",
       "\t World Domination & 4\\\\\n",
       "\t Writers          & 1\\\\\n",
       "\\end{tabular}\n"
      ],
      "text/markdown": [
       "\n",
       "A tibble: 666 × 2\n",
       "\n",
       "| market &lt;chr&gt; | count &lt;int&gt; |\n",
       "|---|---|\n",
       "| 3D            | 8 |\n",
       "| 3D Printing   | 2 |\n",
       "| 3D Technology | 3 |\n",
       "| ⋮ | ⋮ |\n",
       "| Women            | 5 |\n",
       "| World Domination | 4 |\n",
       "| Writers          | 1 |\n",
       "\n"
      ],
      "text/plain": [
       "    market           count\n",
       "1   3D               8    \n",
       "2   3D Printing      2    \n",
       "3   3D Technology    3    \n",
       "⋮   ⋮                ⋮    \n",
       "664 Women            5    \n",
       "665 World Domination 4    \n",
       "666 Writers          1    "
      ]
     },
     "metadata": {},
     "output_type": "display_data"
    },
    {
     "data": {
      "text/html": [
       "<table class=\"dataframe\">\n",
       "<caption>A tibble: 3 × 2</caption>\n",
       "<thead>\n",
       "\t<tr><th scope=col>status</th><th scope=col>count</th></tr>\n",
       "\t<tr><th scope=col>&lt;chr&gt;</th><th scope=col>&lt;int&gt;</th></tr>\n",
       "</thead>\n",
       "<tbody>\n",
       "\t<tr><td>acquired </td><td> 2202</td></tr>\n",
       "\t<tr><td>closed   </td><td> 1190</td></tr>\n",
       "\t<tr><td>operating</td><td>18448</td></tr>\n",
       "</tbody>\n",
       "</table>\n"
      ],
      "text/latex": [
       "A tibble: 3 × 2\n",
       "\\begin{tabular}{ll}\n",
       " status & count\\\\\n",
       " <chr> & <int>\\\\\n",
       "\\hline\n",
       "\t acquired  &  2202\\\\\n",
       "\t closed    &  1190\\\\\n",
       "\t operating & 18448\\\\\n",
       "\\end{tabular}\n"
      ],
      "text/markdown": [
       "\n",
       "A tibble: 3 × 2\n",
       "\n",
       "| status &lt;chr&gt; | count &lt;int&gt; |\n",
       "|---|---|\n",
       "| acquired  |  2202 |\n",
       "| closed    |  1190 |\n",
       "| operating | 18448 |\n",
       "\n"
      ],
      "text/plain": [
       "  status    count\n",
       "1 acquired   2202\n",
       "2 closed     1190\n",
       "3 operating 18448"
      ]
     },
     "metadata": {},
     "output_type": "display_data"
    },
    {
     "data": {
      "text/html": [
       "<table class=\"dataframe\">\n",
       "<caption>A tibble: 13 × 2</caption>\n",
       "<thead>\n",
       "\t<tr><th scope=col>funding_total_usd</th><th scope=col>count</th></tr>\n",
       "\t<tr><th scope=col>&lt;dbl&gt;</th><th scope=col>&lt;int&gt;</th></tr>\n",
       "</thead>\n",
       "<tbody>\n",
       "\t<tr><td>30</td><td>1</td></tr>\n",
       "\t<tr><td>50</td><td>1</td></tr>\n",
       "\t<tr><td>80</td><td>1</td></tr>\n",
       "\t<tr><td>⋮</td><td>⋮</td></tr>\n",
       "\t<tr><td>800</td><td>    2</td></tr>\n",
       "\t<tr><td>900</td><td>    1</td></tr>\n",
       "\t<tr><td> NA</td><td>21824</td></tr>\n",
       "</tbody>\n",
       "</table>\n"
      ],
      "text/latex": [
       "A tibble: 13 × 2\n",
       "\\begin{tabular}{ll}\n",
       " funding\\_total\\_usd & count\\\\\n",
       " <dbl> & <int>\\\\\n",
       "\\hline\n",
       "\t 30 & 1\\\\\n",
       "\t 50 & 1\\\\\n",
       "\t 80 & 1\\\\\n",
       "\t ⋮ & ⋮\\\\\n",
       "\t 800 &     2\\\\\n",
       "\t 900 &     1\\\\\n",
       "\t  NA & 21824\\\\\n",
       "\\end{tabular}\n"
      ],
      "text/markdown": [
       "\n",
       "A tibble: 13 × 2\n",
       "\n",
       "| funding_total_usd &lt;dbl&gt; | count &lt;int&gt; |\n",
       "|---|---|\n",
       "| 30 | 1 |\n",
       "| 50 | 1 |\n",
       "| 80 | 1 |\n",
       "| ⋮ | ⋮ |\n",
       "| 800 |     2 |\n",
       "| 900 |     1 |\n",
       "|  NA | 21824 |\n",
       "\n"
      ],
      "text/plain": [
       "   funding_total_usd count\n",
       "1  30                1    \n",
       "2  50                1    \n",
       "3  80                1    \n",
       "⋮  ⋮                 ⋮    \n",
       "11 800                   2\n",
       "12 900                   1\n",
       "13  NA               21824"
      ]
     },
     "metadata": {},
     "output_type": "display_data"
    }
   ],
   "source": [
    "#step 4: summarizing the data to report the number of observations in each class\n",
    "\n",
    "summary_market <- clean_startup_2|>\n",
    "  select(market) |>\n",
    "  group_by(market) |>\n",
    "  summarise(count = n()) |>\n",
    "  arrange(market)\n",
    "\n",
    "\n",
    "summary_status <- clean_startup_2 |>\n",
    "  select(status) |>\n",
    "  group_by(status) |>\n",
    "  summarise(count = n()) |>\n",
    "  arrange(status)\n",
    "\n",
    "\n",
    "summary_funding <- clean_startup_2 |>\n",
    "  select(funding_total_usd) |>\n",
    "  group_by(funding_total_usd) |>\n",
    "  summarise(count = n()) |>\n",
    "  arrange(funding_total_usd)\n",
    "\n",
    "summary_market\n",
    "summary_status\n",
    "summary_funding\n"
   ]
  },
  {
   "cell_type": "code",
   "execution_count": 15,
   "id": "cc611f52-ad18-4613-8bf7-049938370afa",
   "metadata": {},
   "outputs": [
    {
     "name": "stdout",
     "output_type": "stream",
     "text": [
      "Rows: 5,460\n",
      "Columns: 3\n",
      "$ market            \u001b[3m\u001b[90m<chr>\u001b[39m\u001b[23m \"Software\", \"Analytics\", \"Software\", \"Entertainment\"…\n",
      "$ status            \u001b[3m\u001b[90m<chr>\u001b[39m\u001b[23m \"operating\", \"acquired\", \"operating\", \"operating\", \"…\n",
      "$ funding_total_usd \u001b[3m\u001b[90m<dbl>\u001b[39m\u001b[23m NA, NA, NA, NA, NA, NA, NA, NA, NA, NA, NA, NA, NA, …\n"
     ]
    }
   ],
   "source": [
    "#step 5: Splitting the data \n",
    "\n",
    "clean_data_split <- initial_split(clean_startup_2, prop = 0.75, strata = status)\n",
    "data_train <- training(clean_data_split)\n",
    "data_test <- testing(clean_data_split)\n",
    "\n",
    "glimpse(data_test)"
   ]
  },
  {
   "cell_type": "code",
   "execution_count": 18,
   "id": "d50c5bee-ea32-47dd-bcec-f9a506df6ae4",
   "metadata": {},
   "outputs": [
    {
     "data": {
      "image/png": "[encoded data removed]",
      "text/plain": [
       "plot without title"
      ]
     },
     "metadata": {
      "image/png": {
       "height": 420,
       "width": 420
      }
     },
     "output_type": "display_data"
    }
   ],
   "source": [
    "#visualizing the data\n",
    "\n",
    "vis_plot <- summary_status |>\n",
    "    ggplot(aes(x = status, y = count)) +\n",
    "    geom_bar(stat = \"identity\") +\n",
    "    labs(x = \"Status\",\n",
    "         y = \"Number of companies\",\n",
    "         title = \"Visualization successful companies\") +\n",
    "    theme(text = element_text(size = 20))\n",
    "vis_plot"
   ]
  },
  {
   "cell_type": "code",
   "execution_count": null,
   "id": "20c34ef0-804e-4f09-b04b-038eb68dcd6f",
   "metadata": {},
   "outputs": [],
   "source": []
  }
 ],
 "metadata": {
  "kernelspec": {
   "display_name": "R",
   "language": "R",
   "name": "ir"
  },
  "language_info": {
   "codemirror_mode": "r",
   "file_extension": ".r",
   "mimetype": "text/x-r-source",
   "name": "R",
   "pygments_lexer": "r",
   "version": "4.1.3"
  }
 },
 "nbformat": 4,
 "nbformat_minor": 5
}
